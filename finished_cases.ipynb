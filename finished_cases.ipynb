{
 "cells": [
  {
   "cell_type": "markdown",
   "source": [
    "# Analysis of Finished Cases\n",
    "\n",
    "## Set up a dashboard to monitor ongoing dask operations."
   ],
   "metadata": {
    "collapsed": false
   }
  },
  {
   "cell_type": "code",
   "execution_count": 1,
   "outputs": [
    {
     "name": "stderr",
     "output_type": "stream",
     "text": [
      "/home/advin4603/PrecogRecruitmentTask/env/lib/python3.10/site-packages/distributed/node.py:182: UserWarning: Port 8787 is already in use.\n",
      "Perhaps you already have a cluster running?\n",
      "Hosting the HTTP server on port 43409 instead\n",
      "  warnings.warn(\n"
     ]
    },
    {
     "data": {
      "text/plain": "<Client: 'tcp://127.0.0.1:43539' processes=4 threads=8, memory=15.52 GiB>",
      "text/html": "<div>\n    <div style=\"width: 24px; height: 24px; background-color: #e1e1e1; border: 3px solid #9D9D9D; border-radius: 5px; position: absolute;\"> </div>\n    <div style=\"margin-left: 48px;\">\n        <h3 style=\"margin-bottom: 0px;\">Client</h3>\n        <p style=\"color: #9D9D9D; margin-bottom: 0px;\">Client-d72a9551-989e-11ed-a128-7bf2fbe0ee0f</p>\n        <table style=\"width: 100%; text-align: left;\">\n\n        <tr>\n        \n            <td style=\"text-align: left;\"><strong>Connection method:</strong> Cluster object</td>\n            <td style=\"text-align: left;\"><strong>Cluster type:</strong> distributed.LocalCluster</td>\n        \n        </tr>\n\n        \n            <tr>\n                <td style=\"text-align: left;\">\n                    <strong>Dashboard: </strong> <a href=\"http://127.0.0.1:43409/status\" target=\"_blank\">http://127.0.0.1:43409/status</a>\n                </td>\n                <td style=\"text-align: left;\"></td>\n            </tr>\n        \n\n        </table>\n\n        \n\n        \n            <details>\n            <summary style=\"margin-bottom: 20px;\"><h3 style=\"display: inline;\">Cluster Info</h3></summary>\n            <div class=\"jp-RenderedHTMLCommon jp-RenderedHTML jp-mod-trusted jp-OutputArea-output\">\n    <div style=\"width: 24px; height: 24px; background-color: #e1e1e1; border: 3px solid #9D9D9D; border-radius: 5px; position: absolute;\">\n    </div>\n    <div style=\"margin-left: 48px;\">\n        <h3 style=\"margin-bottom: 0px; margin-top: 0px;\">LocalCluster</h3>\n        <p style=\"color: #9D9D9D; margin-bottom: 0px;\">10544e9f</p>\n        <table style=\"width: 100%; text-align: left;\">\n            <tr>\n                <td style=\"text-align: left;\">\n                    <strong>Dashboard:</strong> <a href=\"http://127.0.0.1:43409/status\" target=\"_blank\">http://127.0.0.1:43409/status</a>\n                </td>\n                <td style=\"text-align: left;\">\n                    <strong>Workers:</strong> 4\n                </td>\n            </tr>\n            <tr>\n                <td style=\"text-align: left;\">\n                    <strong>Total threads:</strong> 8\n                </td>\n                <td style=\"text-align: left;\">\n                    <strong>Total memory:</strong> 15.52 GiB\n                </td>\n            </tr>\n            \n            <tr>\n    <td style=\"text-align: left;\"><strong>Status:</strong> running</td>\n    <td style=\"text-align: left;\"><strong>Using processes:</strong> True</td>\n</tr>\n\n            \n        </table>\n\n        <details>\n            <summary style=\"margin-bottom: 20px;\">\n                <h3 style=\"display: inline;\">Scheduler Info</h3>\n            </summary>\n\n            <div style=\"\">\n    <div>\n        <div style=\"width: 24px; height: 24px; background-color: #FFF7E5; border: 3px solid #FF6132; border-radius: 5px; position: absolute;\"> </div>\n        <div style=\"margin-left: 48px;\">\n            <h3 style=\"margin-bottom: 0px;\">Scheduler</h3>\n            <p style=\"color: #9D9D9D; margin-bottom: 0px;\">Scheduler-4b3cc2d3-6735-41c6-beae-32a702b02c75</p>\n            <table style=\"width: 100%; text-align: left;\">\n                <tr>\n                    <td style=\"text-align: left;\">\n                        <strong>Comm:</strong> tcp://127.0.0.1:43539\n                    </td>\n                    <td style=\"text-align: left;\">\n                        <strong>Workers:</strong> 4\n                    </td>\n                </tr>\n                <tr>\n                    <td style=\"text-align: left;\">\n                        <strong>Dashboard:</strong> <a href=\"http://127.0.0.1:43409/status\" target=\"_blank\">http://127.0.0.1:43409/status</a>\n                    </td>\n                    <td style=\"text-align: left;\">\n                        <strong>Total threads:</strong> 8\n                    </td>\n                </tr>\n                <tr>\n                    <td style=\"text-align: left;\">\n                        <strong>Started:</strong> Just now\n                    </td>\n                    <td style=\"text-align: left;\">\n                        <strong>Total memory:</strong> 15.52 GiB\n                    </td>\n                </tr>\n            </table>\n        </div>\n    </div>\n\n    <details style=\"margin-left: 48px;\">\n        <summary style=\"margin-bottom: 20px;\">\n            <h3 style=\"display: inline;\">Workers</h3>\n        </summary>\n\n        \n        <div style=\"margin-bottom: 20px;\">\n            <div style=\"width: 24px; height: 24px; background-color: #DBF5FF; border: 3px solid #4CC9FF; border-radius: 5px; position: absolute;\"> </div>\n            <div style=\"margin-left: 48px;\">\n            <details>\n                <summary>\n                    <h4 style=\"margin-bottom: 0px; display: inline;\">Worker: 0</h4>\n                </summary>\n                <table style=\"width: 100%; text-align: left;\">\n                    <tr>\n                        <td style=\"text-align: left;\">\n                            <strong>Comm: </strong> tcp://127.0.0.1:44249\n                        </td>\n                        <td style=\"text-align: left;\">\n                            <strong>Total threads: </strong> 2\n                        </td>\n                    </tr>\n                    <tr>\n                        <td style=\"text-align: left;\">\n                            <strong>Dashboard: </strong> <a href=\"http://127.0.0.1:36019/status\" target=\"_blank\">http://127.0.0.1:36019/status</a>\n                        </td>\n                        <td style=\"text-align: left;\">\n                            <strong>Memory: </strong> 3.88 GiB\n                        </td>\n                    </tr>\n                    <tr>\n                        <td style=\"text-align: left;\">\n                            <strong>Nanny: </strong> tcp://127.0.0.1:40863\n                        </td>\n                        <td style=\"text-align: left;\"></td>\n                    </tr>\n                    <tr>\n                        <td colspan=\"2\" style=\"text-align: left;\">\n                            <strong>Local directory: </strong> /tmp/dask-worker-space/worker-17khb5l1\n                        </td>\n                    </tr>\n\n                    \n\n                    \n\n                </table>\n            </details>\n            </div>\n        </div>\n        \n        <div style=\"margin-bottom: 20px;\">\n            <div style=\"width: 24px; height: 24px; background-color: #DBF5FF; border: 3px solid #4CC9FF; border-radius: 5px; position: absolute;\"> </div>\n            <div style=\"margin-left: 48px;\">\n            <details>\n                <summary>\n                    <h4 style=\"margin-bottom: 0px; display: inline;\">Worker: 1</h4>\n                </summary>\n                <table style=\"width: 100%; text-align: left;\">\n                    <tr>\n                        <td style=\"text-align: left;\">\n                            <strong>Comm: </strong> tcp://127.0.0.1:39445\n                        </td>\n                        <td style=\"text-align: left;\">\n                            <strong>Total threads: </strong> 2\n                        </td>\n                    </tr>\n                    <tr>\n                        <td style=\"text-align: left;\">\n                            <strong>Dashboard: </strong> <a href=\"http://127.0.0.1:43733/status\" target=\"_blank\">http://127.0.0.1:43733/status</a>\n                        </td>\n                        <td style=\"text-align: left;\">\n                            <strong>Memory: </strong> 3.88 GiB\n                        </td>\n                    </tr>\n                    <tr>\n                        <td style=\"text-align: left;\">\n                            <strong>Nanny: </strong> tcp://127.0.0.1:40215\n                        </td>\n                        <td style=\"text-align: left;\"></td>\n                    </tr>\n                    <tr>\n                        <td colspan=\"2\" style=\"text-align: left;\">\n                            <strong>Local directory: </strong> /tmp/dask-worker-space/worker-74_e4bw_\n                        </td>\n                    </tr>\n\n                    \n\n                    \n\n                </table>\n            </details>\n            </div>\n        </div>\n        \n        <div style=\"margin-bottom: 20px;\">\n            <div style=\"width: 24px; height: 24px; background-color: #DBF5FF; border: 3px solid #4CC9FF; border-radius: 5px; position: absolute;\"> </div>\n            <div style=\"margin-left: 48px;\">\n            <details>\n                <summary>\n                    <h4 style=\"margin-bottom: 0px; display: inline;\">Worker: 2</h4>\n                </summary>\n                <table style=\"width: 100%; text-align: left;\">\n                    <tr>\n                        <td style=\"text-align: left;\">\n                            <strong>Comm: </strong> tcp://127.0.0.1:46433\n                        </td>\n                        <td style=\"text-align: left;\">\n                            <strong>Total threads: </strong> 2\n                        </td>\n                    </tr>\n                    <tr>\n                        <td style=\"text-align: left;\">\n                            <strong>Dashboard: </strong> <a href=\"http://127.0.0.1:33137/status\" target=\"_blank\">http://127.0.0.1:33137/status</a>\n                        </td>\n                        <td style=\"text-align: left;\">\n                            <strong>Memory: </strong> 3.88 GiB\n                        </td>\n                    </tr>\n                    <tr>\n                        <td style=\"text-align: left;\">\n                            <strong>Nanny: </strong> tcp://127.0.0.1:35215\n                        </td>\n                        <td style=\"text-align: left;\"></td>\n                    </tr>\n                    <tr>\n                        <td colspan=\"2\" style=\"text-align: left;\">\n                            <strong>Local directory: </strong> /tmp/dask-worker-space/worker-0tsxwpji\n                        </td>\n                    </tr>\n\n                    \n\n                    \n\n                </table>\n            </details>\n            </div>\n        </div>\n        \n        <div style=\"margin-bottom: 20px;\">\n            <div style=\"width: 24px; height: 24px; background-color: #DBF5FF; border: 3px solid #4CC9FF; border-radius: 5px; position: absolute;\"> </div>\n            <div style=\"margin-left: 48px;\">\n            <details>\n                <summary>\n                    <h4 style=\"margin-bottom: 0px; display: inline;\">Worker: 3</h4>\n                </summary>\n                <table style=\"width: 100%; text-align: left;\">\n                    <tr>\n                        <td style=\"text-align: left;\">\n                            <strong>Comm: </strong> tcp://127.0.0.1:35845\n                        </td>\n                        <td style=\"text-align: left;\">\n                            <strong>Total threads: </strong> 2\n                        </td>\n                    </tr>\n                    <tr>\n                        <td style=\"text-align: left;\">\n                            <strong>Dashboard: </strong> <a href=\"http://127.0.0.1:35969/status\" target=\"_blank\">http://127.0.0.1:35969/status</a>\n                        </td>\n                        <td style=\"text-align: left;\">\n                            <strong>Memory: </strong> 3.88 GiB\n                        </td>\n                    </tr>\n                    <tr>\n                        <td style=\"text-align: left;\">\n                            <strong>Nanny: </strong> tcp://127.0.0.1:44595\n                        </td>\n                        <td style=\"text-align: left;\"></td>\n                    </tr>\n                    <tr>\n                        <td colspan=\"2\" style=\"text-align: left;\">\n                            <strong>Local directory: </strong> /tmp/dask-worker-space/worker-q1syzmwx\n                        </td>\n                    </tr>\n\n                    \n\n                    \n\n                </table>\n            </details>\n            </div>\n        </div>\n        \n\n    </details>\n</div>\n\n        </details>\n    </div>\n</div>\n            </details>\n        \n\n    </div>\n</div>"
     },
     "execution_count": 1,
     "metadata": {},
     "output_type": "execute_result"
    }
   ],
   "source": [
    "from dask.distributed import Client\n",
    "import dask.dataframe as dd\n",
    "import pandas as pd\n",
    "\n",
    "client = Client()\n",
    "client"
   ],
   "metadata": {
    "collapsed": false
   }
  },
  {
   "cell_type": "markdown",
   "source": [
    "## Load case data from parquet files\n",
    "\n",
    "Dask uses lazy loading so data isn't loaded onto the RAM."
   ],
   "metadata": {
    "collapsed": false
   }
  },
  {
   "cell_type": "markdown",
   "source": [],
   "metadata": {
    "collapsed": false
   }
  },
  {
   "cell_type": "code",
   "execution_count": 2,
   "metadata": {
    "collapsed": false
   },
   "outputs": [
    {
     "data": {
      "text/plain": "Dask DataFrame Structure:\n                date_of_decision  date_of_filing   year type_name disp_name    act  section\nnpartitions=660                                                                            \n                  datetime64[ns]  datetime64[ns]  int16     Int16     Int16  Int16  float64\n                             ...             ...    ...       ...       ...    ...      ...\n...                          ...             ...    ...       ...       ...    ...      ...\n                             ...             ...    ...       ...       ...    ...      ...\n                             ...             ...    ...       ...       ...    ...      ...\nDask Name: concat, 10 graph layers",
      "text/html": "<div><strong>Dask DataFrame Structure:</strong></div>\n<div>\n<style scoped>\n    .dataframe tbody tr th:only-of-type {\n        vertical-align: middle;\n    }\n\n    .dataframe tbody tr th {\n        vertical-align: top;\n    }\n\n    .dataframe thead th {\n        text-align: right;\n    }\n</style>\n<table border=\"1\" class=\"dataframe\">\n  <thead>\n    <tr style=\"text-align: right;\">\n      <th></th>\n      <th>date_of_decision</th>\n      <th>date_of_filing</th>\n      <th>year</th>\n      <th>type_name</th>\n      <th>disp_name</th>\n      <th>act</th>\n      <th>section</th>\n    </tr>\n    <tr>\n      <th>npartitions=660</th>\n      <th></th>\n      <th></th>\n      <th></th>\n      <th></th>\n      <th></th>\n      <th></th>\n      <th></th>\n    </tr>\n  </thead>\n  <tbody>\n    <tr>\n      <th></th>\n      <td>datetime64[ns]</td>\n      <td>datetime64[ns]</td>\n      <td>int16</td>\n      <td>Int16</td>\n      <td>Int16</td>\n      <td>Int16</td>\n      <td>float64</td>\n    </tr>\n    <tr>\n      <th></th>\n      <td>...</td>\n      <td>...</td>\n      <td>...</td>\n      <td>...</td>\n      <td>...</td>\n      <td>...</td>\n      <td>...</td>\n    </tr>\n    <tr>\n      <th>...</th>\n      <td>...</td>\n      <td>...</td>\n      <td>...</td>\n      <td>...</td>\n      <td>...</td>\n      <td>...</td>\n      <td>...</td>\n    </tr>\n    <tr>\n      <th></th>\n      <td>...</td>\n      <td>...</td>\n      <td>...</td>\n      <td>...</td>\n      <td>...</td>\n      <td>...</td>\n      <td>...</td>\n    </tr>\n    <tr>\n      <th></th>\n      <td>...</td>\n      <td>...</td>\n      <td>...</td>\n      <td>...</td>\n      <td>...</td>\n      <td>...</td>\n      <td>...</td>\n    </tr>\n  </tbody>\n</table>\n</div>\n<div>Dask Name: concat, 10 graph layers</div>"
     },
     "execution_count": 2,
     "metadata": {},
     "output_type": "execute_result"
    }
   ],
   "source": [
    "date_parser = lambda x: pd.to_datetime(str(x), errors='coerce', format=\"%d-%m-%Y\")\n",
    "case_date_parser = lambda x: pd.to_datetime(str(x), errors='coerce', format=\"%Y-%m-%d\")\n",
    "\n",
    "cases_dtype = {\n",
    "    \"ddl_case_id\": \"string[pyarrow]\",\n",
    "    \"year\": \"int16\",\n",
    "    \"state_code\": \"category\",\n",
    "    \"dist_code\": \"category\",\n",
    "    \"court_no\": \"category\",\n",
    "    \"cino\": \"string[pyarrow]\",\n",
    "    'judge_position': \"string[pyarrow]\",\n",
    "    \"female_defendant\": \"category\",\n",
    "    \"female_adv_def\": \"category\",\n",
    "    \"female_adv_pet\": \"category\",\n",
    "    \"type_name\": \"Int16\",\n",
    "    \"purpose_name\": \"Int16\",\n",
    "    \"disp_name\": \"Int16\",\n",
    "    \"date_of_filing\": \"string[pyarrow]\",\n",
    "    \"date_of_decision\": \"string[pyarrow]\",\n",
    "    \"date_first_list\": \"string[pyarrow]\",\n",
    "    \"date_last_list\": \"string[pyarrow]\",\n",
    "    \"date_next_list\": \"string[pyarrow]\",\n",
    "    \"act\": \"Int16\",\n",
    "    \"section\": \"Int64\",\n",
    "    \"bailable_ipc\": \"category\",\n",
    "    \"number_sections_ipc\": \"Int16\",\n",
    "    \"criminal\": \"category\"\n",
    "}\n",
    "\n",
    "cases = dd.concat([dd.read_parquet(f\"./Parquet/cases_acts/{year}/\", dtype=cases_dtype,\n",
    "                                   columns=[\"date_of_decision\", \"date_of_filing\", \"year\", \"type_name\", \"disp_name\", \"act\", \"section\"],\n",
    "                                   parse_dates=[\"date_of_filing\", \"date_of_decision\"]) for year in range(2010, 2019)])\n",
    "cases"
   ]
  },
  {
   "cell_type": "markdown",
   "source": [
    "## Filter all the Cases and perform sanity checks to ensure proper data"
   ],
   "metadata": {
    "collapsed": false
   }
  },
  {
   "cell_type": "code",
   "execution_count": 3,
   "metadata": {
    "collapsed": false
   },
   "outputs": [],
   "source": [
    "finished_cases = cases.dropna(subset=[\"date_of_filing\", \"date_of_decision\", \"disp_name\"])\n",
    "finished_cases = finished_cases[\n",
    "    ((finished_cases[\"date_of_decision\"] - finished_cases[\"date_of_filing\"]).dt.total_seconds() >= 0) &\n",
    "    ((pd.to_datetime('today') - finished_cases[\"date_of_decision\"]).dt.total_seconds() >= 0) &\n",
    "    (finished_cases[\"date_of_filing\"].dt.year == finished_cases[\"year\"])\n",
    "    ]"
   ]
  },
  {
   "cell_type": "markdown",
   "source": [
    "## Calculate duration in days"
   ],
   "metadata": {
    "collapsed": false
   }
  },
  {
   "cell_type": "code",
   "execution_count": 4,
   "metadata": {
    "collapsed": false
   },
   "outputs": [
    {
     "data": {
      "text/plain": "                         date_of_decision date_of_filing  year  type_name  \\\nddl_case_id                                                                 \n01-01-01-200308002162010       2011-06-19     2010-12-13  2010        790   \n01-01-01-201908000012010       2010-01-11     2010-01-02  2010       1429   \n01-01-01-201908000022010       2013-12-11     2010-01-02  2010       1429   \n01-01-01-201908000032010       2010-02-11     2010-01-02  2010       1429   \n01-01-01-201908000042010       2010-02-12     2010-01-02  2010       1429   \n\n                          disp_name   act    section  duration  \nddl_case_id                                                     \n01-01-01-200308002162010         42  4759   132871.0       188  \n01-01-01-201908000012010         25  4759  1123673.0         9  \n01-01-01-201908000022010         22  4759   132871.0      1439  \n01-01-01-201908000032010         25  4759  1123673.0        40  \n01-01-01-201908000042010         25  4759  1123673.0        41  ",
      "text/html": "<div>\n<style scoped>\n    .dataframe tbody tr th:only-of-type {\n        vertical-align: middle;\n    }\n\n    .dataframe tbody tr th {\n        vertical-align: top;\n    }\n\n    .dataframe thead th {\n        text-align: right;\n    }\n</style>\n<table border=\"1\" class=\"dataframe\">\n  <thead>\n    <tr style=\"text-align: right;\">\n      <th></th>\n      <th>date_of_decision</th>\n      <th>date_of_filing</th>\n      <th>year</th>\n      <th>type_name</th>\n      <th>disp_name</th>\n      <th>act</th>\n      <th>section</th>\n      <th>duration</th>\n    </tr>\n    <tr>\n      <th>ddl_case_id</th>\n      <th></th>\n      <th></th>\n      <th></th>\n      <th></th>\n      <th></th>\n      <th></th>\n      <th></th>\n      <th></th>\n    </tr>\n  </thead>\n  <tbody>\n    <tr>\n      <th>01-01-01-200308002162010</th>\n      <td>2011-06-19</td>\n      <td>2010-12-13</td>\n      <td>2010</td>\n      <td>790</td>\n      <td>42</td>\n      <td>4759</td>\n      <td>132871.0</td>\n      <td>188</td>\n    </tr>\n    <tr>\n      <th>01-01-01-201908000012010</th>\n      <td>2010-01-11</td>\n      <td>2010-01-02</td>\n      <td>2010</td>\n      <td>1429</td>\n      <td>25</td>\n      <td>4759</td>\n      <td>1123673.0</td>\n      <td>9</td>\n    </tr>\n    <tr>\n      <th>01-01-01-201908000022010</th>\n      <td>2013-12-11</td>\n      <td>2010-01-02</td>\n      <td>2010</td>\n      <td>1429</td>\n      <td>22</td>\n      <td>4759</td>\n      <td>132871.0</td>\n      <td>1439</td>\n    </tr>\n    <tr>\n      <th>01-01-01-201908000032010</th>\n      <td>2010-02-11</td>\n      <td>2010-01-02</td>\n      <td>2010</td>\n      <td>1429</td>\n      <td>25</td>\n      <td>4759</td>\n      <td>1123673.0</td>\n      <td>40</td>\n    </tr>\n    <tr>\n      <th>01-01-01-201908000042010</th>\n      <td>2010-02-12</td>\n      <td>2010-01-02</td>\n      <td>2010</td>\n      <td>1429</td>\n      <td>25</td>\n      <td>4759</td>\n      <td>1123673.0</td>\n      <td>41</td>\n    </tr>\n  </tbody>\n</table>\n</div>"
     },
     "execution_count": 4,
     "metadata": {},
     "output_type": "execute_result"
    }
   ],
   "source": [
    "finished_cases[\"duration\"] = (finished_cases[\"date_of_decision\"] - finished_cases[\"date_of_filing\"]).dt.days\n",
    "finished_cases.head()"
   ]
  },
  {
   "cell_type": "markdown",
   "source": [
    "## Load the type name key"
   ],
   "metadata": {
    "collapsed": false
   }
  },
  {
   "cell_type": "code",
   "execution_count": 5,
   "metadata": {
    "collapsed": false
   },
   "outputs": [
    {
     "data": {
      "text/plain": "   year  type_name         type_name_s  count\n0  2010          1            (m) t.s.     18\n1  2010          2                (sc)      2\n2  2010          3          ..mact 166     97\n3  2010          4  04 complaint cases     19\n4  2010          5    04 criminal case     21",
      "text/html": "<div>\n<style scoped>\n    .dataframe tbody tr th:only-of-type {\n        vertical-align: middle;\n    }\n\n    .dataframe tbody tr th {\n        vertical-align: top;\n    }\n\n    .dataframe thead th {\n        text-align: right;\n    }\n</style>\n<table border=\"1\" class=\"dataframe\">\n  <thead>\n    <tr style=\"text-align: right;\">\n      <th></th>\n      <th>year</th>\n      <th>type_name</th>\n      <th>type_name_s</th>\n      <th>count</th>\n    </tr>\n  </thead>\n  <tbody>\n    <tr>\n      <th>0</th>\n      <td>2010</td>\n      <td>1</td>\n      <td>(m) t.s.</td>\n      <td>18</td>\n    </tr>\n    <tr>\n      <th>1</th>\n      <td>2010</td>\n      <td>2</td>\n      <td>(sc)</td>\n      <td>2</td>\n    </tr>\n    <tr>\n      <th>2</th>\n      <td>2010</td>\n      <td>3</td>\n      <td>..mact 166</td>\n      <td>97</td>\n    </tr>\n    <tr>\n      <th>3</th>\n      <td>2010</td>\n      <td>4</td>\n      <td>04 complaint cases</td>\n      <td>19</td>\n    </tr>\n    <tr>\n      <th>4</th>\n      <td>2010</td>\n      <td>5</td>\n      <td>04 criminal case</td>\n      <td>21</td>\n    </tr>\n  </tbody>\n</table>\n</div>"
     },
     "execution_count": 5,
     "metadata": {},
     "output_type": "execute_result"
    }
   ],
   "source": [
    "type_name_key = dd.read_csv(\"./csv/keys/keys/type_name_key.csv\",\n",
    "                            dtype={\"year\": \"int16\", \"type_name\": \"Int16\", \"type_name_s\": \"string[pyarrow]\",\n",
    "                                   \"count\": \"int64\"})\n",
    "type_name_key.head()"
   ]
  },
  {
   "cell_type": "markdown",
   "source": [
    "## Load the disp name key"
   ],
   "metadata": {
    "collapsed": false
   }
  },
  {
   "cell_type": "code",
   "execution_count": 6,
   "metadata": {
    "collapsed": false
   },
   "outputs": [
    {
     "data": {
      "text/plain": "   year  disp_name disp_name_s   count\n0  2010          1    258 crpc   15765\n1  2010          2      abated   22021\n2  2010          3   absconded   16773\n3  2010          4   acquitted  406015\n4  2010          5     allowed  244023",
      "text/html": "<div>\n<style scoped>\n    .dataframe tbody tr th:only-of-type {\n        vertical-align: middle;\n    }\n\n    .dataframe tbody tr th {\n        vertical-align: top;\n    }\n\n    .dataframe thead th {\n        text-align: right;\n    }\n</style>\n<table border=\"1\" class=\"dataframe\">\n  <thead>\n    <tr style=\"text-align: right;\">\n      <th></th>\n      <th>year</th>\n      <th>disp_name</th>\n      <th>disp_name_s</th>\n      <th>count</th>\n    </tr>\n  </thead>\n  <tbody>\n    <tr>\n      <th>0</th>\n      <td>2010</td>\n      <td>1</td>\n      <td>258 crpc</td>\n      <td>15765</td>\n    </tr>\n    <tr>\n      <th>1</th>\n      <td>2010</td>\n      <td>2</td>\n      <td>abated</td>\n      <td>22021</td>\n    </tr>\n    <tr>\n      <th>2</th>\n      <td>2010</td>\n      <td>3</td>\n      <td>absconded</td>\n      <td>16773</td>\n    </tr>\n    <tr>\n      <th>3</th>\n      <td>2010</td>\n      <td>4</td>\n      <td>acquitted</td>\n      <td>406015</td>\n    </tr>\n    <tr>\n      <th>4</th>\n      <td>2010</td>\n      <td>5</td>\n      <td>allowed</td>\n      <td>244023</td>\n    </tr>\n  </tbody>\n</table>\n</div>"
     },
     "execution_count": 6,
     "metadata": {},
     "output_type": "execute_result"
    }
   ],
   "source": [
    "disp_name_key = dd.read_csv(\"./csv/keys/keys/disp_name_key.csv\",\n",
    "                            dtype={\"year\": \"int16\", \"disp_name\": \"Int16\", \"disp_name_s\": \"string[pyarrow]\",\n",
    "                                   \"count\": \"int64\"})\n",
    "disp_name_key.head()"
   ]
  },
  {
   "cell_type": "markdown",
   "source": [
    "## Merge keys with Finished Cases"
   ],
   "metadata": {
    "collapsed": false
   }
  },
  {
   "cell_type": "code",
   "execution_count": 7,
   "metadata": {
    "collapsed": false
   },
   "outputs": [
    {
     "data": {
      "text/plain": "  date_of_decision date_of_filing  year  type_name  disp_name   act  \\\n0       2011-06-19     2010-12-13  2010        790         42  4759   \n1       2010-01-11     2010-01-02  2010       1429         25  4759   \n2       2013-12-11     2010-01-02  2010       1429         22  4759   \n3       2010-02-11     2010-01-02  2010       1429         25  4759   \n4       2010-02-12     2010-01-02  2010       1429         25  4759   \n\n     section  duration             disp_name_s type_name_s  \n0   132871.0       188  referred to lok adalat  civil m.a.  \n1  1123673.0         9      disposed-otherwise    cri.m.a.  \n2   132871.0      1439               dismissed    cri.m.a.  \n3  1123673.0        40      disposed-otherwise    cri.m.a.  \n4  1123673.0        41      disposed-otherwise    cri.m.a.  ",
      "text/html": "<div>\n<style scoped>\n    .dataframe tbody tr th:only-of-type {\n        vertical-align: middle;\n    }\n\n    .dataframe tbody tr th {\n        vertical-align: top;\n    }\n\n    .dataframe thead th {\n        text-align: right;\n    }\n</style>\n<table border=\"1\" class=\"dataframe\">\n  <thead>\n    <tr style=\"text-align: right;\">\n      <th></th>\n      <th>date_of_decision</th>\n      <th>date_of_filing</th>\n      <th>year</th>\n      <th>type_name</th>\n      <th>disp_name</th>\n      <th>act</th>\n      <th>section</th>\n      <th>duration</th>\n      <th>disp_name_s</th>\n      <th>type_name_s</th>\n    </tr>\n  </thead>\n  <tbody>\n    <tr>\n      <th>0</th>\n      <td>2011-06-19</td>\n      <td>2010-12-13</td>\n      <td>2010</td>\n      <td>790</td>\n      <td>42</td>\n      <td>4759</td>\n      <td>132871.0</td>\n      <td>188</td>\n      <td>referred to lok adalat</td>\n      <td>civil m.a.</td>\n    </tr>\n    <tr>\n      <th>1</th>\n      <td>2010-01-11</td>\n      <td>2010-01-02</td>\n      <td>2010</td>\n      <td>1429</td>\n      <td>25</td>\n      <td>4759</td>\n      <td>1123673.0</td>\n      <td>9</td>\n      <td>disposed-otherwise</td>\n      <td>cri.m.a.</td>\n    </tr>\n    <tr>\n      <th>2</th>\n      <td>2013-12-11</td>\n      <td>2010-01-02</td>\n      <td>2010</td>\n      <td>1429</td>\n      <td>22</td>\n      <td>4759</td>\n      <td>132871.0</td>\n      <td>1439</td>\n      <td>dismissed</td>\n      <td>cri.m.a.</td>\n    </tr>\n    <tr>\n      <th>3</th>\n      <td>2010-02-11</td>\n      <td>2010-01-02</td>\n      <td>2010</td>\n      <td>1429</td>\n      <td>25</td>\n      <td>4759</td>\n      <td>1123673.0</td>\n      <td>40</td>\n      <td>disposed-otherwise</td>\n      <td>cri.m.a.</td>\n    </tr>\n    <tr>\n      <th>4</th>\n      <td>2010-02-12</td>\n      <td>2010-01-02</td>\n      <td>2010</td>\n      <td>1429</td>\n      <td>25</td>\n      <td>4759</td>\n      <td>1123673.0</td>\n      <td>41</td>\n      <td>disposed-otherwise</td>\n      <td>cri.m.a.</td>\n    </tr>\n  </tbody>\n</table>\n</div>"
     },
     "execution_count": 7,
     "metadata": {},
     "output_type": "execute_result"
    }
   ],
   "source": [
    "finished_cases = dd.merge(finished_cases, disp_name_key[[\"year\", \"disp_name\", \"disp_name_s\"]], how=\"left\",\n",
    "                          on=[\"year\", \"disp_name\"])\n",
    "finished_cases = dd.merge(finished_cases, type_name_key[[\"year\", \"type_name\", \"type_name_s\"]], how=\"left\",\n",
    "                          on=[\"year\", \"type_name\"])\n",
    "finished_cases.head()"
   ]
  },
  {
   "cell_type": "markdown",
   "source": [
    "## Get Average Durations for different types of cases.\n",
    "\n",
    "### We see that cases marked `excise act gr hilsa` take the longest on average to complete.\n",
    "\n",
    "### We also note that cases marked `escc` vary the most in their durations."
   ],
   "metadata": {
    "collapsed": false
   }
  },
  {
   "cell_type": "code",
   "execution_count": 9,
   "metadata": {},
   "outputs": [
    {
     "data": {
      "text/plain": "                                       duration            \n                                           mean         std\ntype_name_s                                                \ncivil m.a.                           324.259959  425.336508\ncri.m.a.                             271.622704  424.748195\nr.c.s.                               623.948771  699.420494\nmunci. appeal                        787.182035  593.182894\nspl.c.s.                             742.680478  626.275322\n...                                         ...         ...\ncri. rev. app.                        38.000000    7.071068\ncr. rev..                            637.000000         NaN\nsuit for declaration and partition   395.000000         NaN\nsuit for declaration and possession  395.000000         NaN\nmisc.civil application               257.000000         NaN\n\n[10073 rows x 2 columns]",
      "text/html": "<div>\n<style scoped>\n    .dataframe tbody tr th:only-of-type {\n        vertical-align: middle;\n    }\n\n    .dataframe tbody tr th {\n        vertical-align: top;\n    }\n\n    .dataframe thead tr th {\n        text-align: left;\n    }\n\n    .dataframe thead tr:last-of-type th {\n        text-align: right;\n    }\n</style>\n<table border=\"1\" class=\"dataframe\">\n  <thead>\n    <tr>\n      <th></th>\n      <th colspan=\"2\" halign=\"left\">duration</th>\n    </tr>\n    <tr>\n      <th></th>\n      <th>mean</th>\n      <th>std</th>\n    </tr>\n    <tr>\n      <th>type_name_s</th>\n      <th></th>\n      <th></th>\n    </tr>\n  </thead>\n  <tbody>\n    <tr>\n      <th>civil m.a.</th>\n      <td>324.259959</td>\n      <td>425.336508</td>\n    </tr>\n    <tr>\n      <th>cri.m.a.</th>\n      <td>271.622704</td>\n      <td>424.748195</td>\n    </tr>\n    <tr>\n      <th>r.c.s.</th>\n      <td>623.948771</td>\n      <td>699.420494</td>\n    </tr>\n    <tr>\n      <th>munci. appeal</th>\n      <td>787.182035</td>\n      <td>593.182894</td>\n    </tr>\n    <tr>\n      <th>spl.c.s.</th>\n      <td>742.680478</td>\n      <td>626.275322</td>\n    </tr>\n    <tr>\n      <th>...</th>\n      <td>...</td>\n      <td>...</td>\n    </tr>\n    <tr>\n      <th>cri. rev. app.</th>\n      <td>38.000000</td>\n      <td>7.071068</td>\n    </tr>\n    <tr>\n      <th>cr. rev..</th>\n      <td>637.000000</td>\n      <td>NaN</td>\n    </tr>\n    <tr>\n      <th>suit for declaration and partition</th>\n      <td>395.000000</td>\n      <td>NaN</td>\n    </tr>\n    <tr>\n      <th>suit for declaration and possession</th>\n      <td>395.000000</td>\n      <td>NaN</td>\n    </tr>\n    <tr>\n      <th>misc.civil application</th>\n      <td>257.000000</td>\n      <td>NaN</td>\n    </tr>\n  </tbody>\n</table>\n<p>10073 rows × 2 columns</p>\n</div>"
     },
     "execution_count": 9,
     "metadata": {},
     "output_type": "execute_result"
    }
   ],
   "source": [
    "type_avg_durations = finished_cases[[\"type_name_s\", \"duration\"]].groupby(\"type_name_s\").agg([\"mean\", \"std\"])\n",
    "type_avg_durations.compute()"
   ]
  },
  {
   "cell_type": "markdown",
   "source": [
    "## Plot the distribution of durations\n",
    "Uncomment the line to make a graph for various types of cases.\n",
    "\n",
    "### We observe that durations follow Zipf's Law where the durations are ranked in ascending order\n",
    "According to zipf's law, the rank of an element is inversely related to its frequency.\n",
    "\n",
    "What this means is that the duration of a case is distributed such that cases tend to be disposed of as soon as possible and there is no minimum amount of time that every case runs for."
   ],
   "metadata": {
    "collapsed": false
   }
  },
  {
   "cell_type": "code",
   "execution_count": 10,
   "metadata": {},
   "outputs": [
    {
     "data": {
      "text/plain": "<AxesSubplot: >"
     },
     "execution_count": 10,
     "metadata": {},
     "output_type": "execute_result"
    },
    {
     "data": {
      "text/plain": "<Figure size 640x480 with 1 Axes>",
      "image/png": "[encoded data removed]"
     },
     "metadata": {},
     "output_type": "display_data"
    }
   ],
   "source": [
    "type_name = \"cc\"\n",
    "type_durations = finished_cases[[\"type_name_s\", \"duration\"]]\n",
    "# type_durations = type_durations[type_durations[\"type_name_s\"] == type_name]\n",
    "type_durations.compute()[\"duration\"].hist(bins=100)"
   ]
  }
 ],
 "metadata": {
  "kernelspec": {
   "display_name": "env",
   "language": "python",
   "name": "python3"
  },
  "language_info": {
   "codemirror_mode": {
    "name": "ipython",
    "version": 3
   },
   "file_extension": ".py",
   "mimetype": "text/x-python",
   "name": "python",
   "nbconvert_exporter": "python",
   "pygments_lexer": "ipython3",
   "version": "3.10.7 (main, Nov 24 2022, 19:45:47) [GCC 12.2.0]"
  },
  "vscode": {
   "interpreter": {
    "hash": "190884a1e5fe24fc2ee6e2792282c56c186bdf16781d89b6b5e18128eba771e2"
   }
  }
 },
 "nbformat": 4,
 "nbformat_minor": 1
}
